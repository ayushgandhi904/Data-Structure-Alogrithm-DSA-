{
 "cells": [
  {
   "cell_type": "markdown",
   "id": "658d01dd",
   "metadata": {},
   "source": [
    "### Given a non-negative integer x, return the square root of x rounded down to the nearest integer. The returned integer should be non-negative as well. You must not use any built-in exponent function or operator. \n"
   ]
  },
  {
   "cell_type": "code",
   "execution_count": 1,
   "id": "6b2d9606",
   "metadata": {},
   "outputs": [],
   "source": [
    "def sqrt(x):\n",
    "    if x == 0:\n",
    "        return 0\n",
    "\n",
    "    left, right = 1, x\n",
    "    while left <= right:\n",
    "        mid = left + (right - left) // 2\n",
    "        if mid * mid == x:\n",
    "            return mid\n",
    "        elif mid * mid < x:\n",
    "            left = mid + 1\n",
    "        else:\n",
    "            right = mid - 1\n",
    "    \n",
    "    return right"
   ]
  },
  {
   "cell_type": "code",
   "execution_count": 3,
   "id": "c3692bb1",
   "metadata": {},
   "outputs": [
    {
     "data": {
      "text/plain": [
       "2"
      ]
     },
     "execution_count": 3,
     "metadata": {},
     "output_type": "execute_result"
    }
   ],
   "source": [
    "sqrt(4)"
   ]
  },
  {
   "cell_type": "code",
   "execution_count": 6,
   "id": "e45558bd",
   "metadata": {},
   "outputs": [
    {
     "data": {
      "text/plain": [
       "2"
      ]
     },
     "execution_count": 6,
     "metadata": {},
     "output_type": "execute_result"
    }
   ],
   "source": [
    "sqrt(8)"
   ]
  },
  {
   "cell_type": "markdown",
   "id": "0f7a7f5d",
   "metadata": {},
   "source": [
    "### You are given two non-empty linked lists representing two non-negative integers. The digits are stored in reverse order, and each of their nodes contains a single digit. Add the two numbers and return the sum as a linked list.\n",
    "\n",
    "You may assume the two numbers do not contain any leading zero, except the number 0 itself."
   ]
  },
  {
   "cell_type": "code",
   "execution_count": 10,
   "id": "f9954da9",
   "metadata": {},
   "outputs": [],
   "source": [
    "class ListNode:\n",
    "    def __init__(self, val=0, next=None):\n",
    "        self.val = val\n",
    "        self.next = next\n",
    "\n",
    "\n",
    "def add_nos(l1, l2):\n",
    "    dummy = ListNode(0)\n",
    "    current = dummy\n",
    "    carry = 0\n",
    "    \n",
    "    while l1 or l2 or carry:\n",
    "        val1 = l1[0] if l1 else 0\n",
    "        val2 = l2[0] if l2 else 0\n",
    "        \n",
    "        total = val1 + val2 + carry\n",
    "        carry = total // 10\n",
    "        digit = total % 10\n",
    "        \n",
    "        current[1] = [digit, None]\n",
    "        current = current[1]\n",
    "        \n",
    "        l1 = l1[1] if l1 else None\n",
    "        l2 = l2[1] if l2 else None\n",
    "    \n",
    "    return dummy[1]"
   ]
  },
  {
   "cell_type": "code",
   "execution_count": 18,
   "id": "e280b9fb",
   "metadata": {},
   "outputs": [
    {
     "ename": "AttributeError",
     "evalue": "'list' object has no attribute 'val'",
     "output_type": "error",
     "traceback": [
      "\u001b[1;31m---------------------------------------------------------------------------\u001b[0m",
      "\u001b[1;31mAttributeError\u001b[0m                            Traceback (most recent call last)",
      "Cell \u001b[1;32mIn[18], line 1\u001b[0m\n\u001b[1;32m----> 1\u001b[0m \u001b[43maddnos\u001b[49m\u001b[43m(\u001b[49m\u001b[43m[\u001b[49m\u001b[38;5;241;43m2\u001b[39;49m\u001b[43m,\u001b[49m\u001b[43m \u001b[49m\u001b[38;5;241;43m4\u001b[39;49m\u001b[43m,\u001b[49m\u001b[43m \u001b[49m\u001b[38;5;241;43m3\u001b[39;49m\u001b[43m]\u001b[49m\u001b[43m,\u001b[49m\u001b[43m \u001b[49m\u001b[43m[\u001b[49m\u001b[38;5;241;43m5\u001b[39;49m\u001b[43m,\u001b[49m\u001b[43m \u001b[49m\u001b[38;5;241;43m6\u001b[39;49m\u001b[43m,\u001b[49m\u001b[43m \u001b[49m\u001b[38;5;241;43m4\u001b[39;49m\u001b[43m]\u001b[49m\u001b[43m)\u001b[49m\n",
      "Cell \u001b[1;32mIn[15], line 16\u001b[0m, in \u001b[0;36maddnos\u001b[1;34m(l1, l2)\u001b[0m\n\u001b[0;32m     13\u001b[0m sum_value \u001b[38;5;241m=\u001b[39m carry\n\u001b[0;32m     15\u001b[0m \u001b[38;5;28;01mif\u001b[39;00m l1 \u001b[38;5;129;01mis\u001b[39;00m \u001b[38;5;129;01mnot\u001b[39;00m \u001b[38;5;28;01mNone\u001b[39;00m:\n\u001b[1;32m---> 16\u001b[0m     sum_value \u001b[38;5;241m+\u001b[39m\u001b[38;5;241m=\u001b[39m \u001b[43ml1\u001b[49m\u001b[38;5;241;43m.\u001b[39;49m\u001b[43mval\u001b[49m\n\u001b[0;32m     17\u001b[0m     l1 \u001b[38;5;241m=\u001b[39m l1\u001b[38;5;241m.\u001b[39mnext\n\u001b[0;32m     18\u001b[0m \u001b[38;5;28;01mif\u001b[39;00m l2 \u001b[38;5;129;01mis\u001b[39;00m \u001b[38;5;129;01mnot\u001b[39;00m \u001b[38;5;28;01mNone\u001b[39;00m:\n",
      "\u001b[1;31mAttributeError\u001b[0m: 'list' object has no attribute 'val'"
     ]
    }
   ],
   "source": [
    "addnos([2, 4, 3], [5, 6, 4])"
   ]
  },
  {
   "cell_type": "code",
   "execution_count": 17,
   "id": "58403f92",
   "metadata": {},
   "outputs": [],
   "source": [
    "class ListNode:\n",
    "    def __init__(self, val):\n",
    "        self.val = val\n",
    "\n",
    "def addnos(l1, l2):\n",
    "    head = None\n",
    "\n",
    "    temp = None\n",
    "\n",
    "    carry = 0\n",
    "\n",
    "    while l1 is not None or l2 is not None:\n",
    "        sum_value = carry\n",
    "\n",
    "        if l1 is not None:\n",
    "            sum_value += l1.val\n",
    "            l1 = l1.next\n",
    "        if l2 is not None:\n",
    "            sum_value += l2.val\n",
    "            l2 = l2.next\n",
    "\n",
    "        node = ListNode(sum_value % 10)\n",
    "\n",
    "        carry = sum_value // 10\n",
    "\n",
    "        if temp is None:\n",
    "            temp = head = node\n",
    "\n",
    "        else:\n",
    "            temp.next = node\n",
    "            temp = temp.next\n",
    "\n",
    "    if carry > 0:\n",
    "        temp.next = ListNode(carry)\n",
    "    return head\n"
   ]
  },
  {
   "cell_type": "code",
   "execution_count": null,
   "id": "db5111c7",
   "metadata": {},
   "outputs": [],
   "source": []
  }
 ],
 "metadata": {
  "kernelspec": {
   "display_name": "Python 3 (ipykernel)",
   "language": "python",
   "name": "python3"
  },
  "language_info": {
   "codemirror_mode": {
    "name": "ipython",
    "version": 3
   },
   "file_extension": ".py",
   "mimetype": "text/x-python",
   "name": "python",
   "nbconvert_exporter": "python",
   "pygments_lexer": "ipython3",
   "version": "3.9.16"
  }
 },
 "nbformat": 4,
 "nbformat_minor": 5
}
