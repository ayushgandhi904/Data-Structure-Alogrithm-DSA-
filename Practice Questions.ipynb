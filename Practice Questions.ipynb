{
 "cells": [
  {
   "cell_type": "markdown",
   "id": "e7fc5121",
   "metadata": {},
   "source": [
    "### Given an integer array nums, move all 0's to the end of it while maintaining the relative order of the non-zero elements.\n",
    "\n",
    "Note that you must do this in-place without making a copy of the array."
   ]
  },
  {
   "cell_type": "code",
   "execution_count": 5,
   "id": "1b8b46d9",
   "metadata": {},
   "outputs": [],
   "source": [
    "def movezeros(nums):\n",
    "    nonzero_idx = 0\n",
    "\n",
    "    for i in range(len(nums)):\n",
    "        if nums[i] != 0:\n",
    "            nums[nonzero_idx] = nums[i]\n",
    "            nonzero_idx += 1\n",
    "    while nonzero_idx < len(nums):\n",
    "        nums[nonzero_idx] = 0\n",
    "        nonzero_idx += 1\n",
    "        \n",
    "    return nums"
   ]
  },
  {
   "cell_type": "code",
   "execution_count": 6,
   "id": "0c6f79bf",
   "metadata": {},
   "outputs": [
    {
     "data": {
      "text/plain": [
       "[1, 3, 12, 0, 0]"
      ]
     },
     "execution_count": 6,
     "metadata": {},
     "output_type": "execute_result"
    }
   ],
   "source": [
    "movezeros([0,1,0,3,12])"
   ]
  },
  {
   "cell_type": "code",
   "execution_count": 7,
   "id": "58124570",
   "metadata": {},
   "outputs": [
    {
     "data": {
      "text/plain": [
       "[0]"
      ]
     },
     "execution_count": 7,
     "metadata": {},
     "output_type": "execute_result"
    }
   ],
   "source": [
    "movezeros([0])"
   ]
  },
  {
   "cell_type": "markdown",
   "id": "5e1a9282",
   "metadata": {},
   "source": [
    "### First Unique Character in a String\n",
    "\n",
    "Given a string s, find the first non-repeating character in it and return its index. If it does not exist, return -1."
   ]
  },
  {
   "cell_type": "code",
   "execution_count": 11,
   "id": "c853870a",
   "metadata": {},
   "outputs": [],
   "source": [
    "def uniqchar(s):\n",
    "    \n",
    "    char_count = {}\n",
    "\n",
    "    for char in s:\n",
    "        char_count[char] = char_count.get(char, 0) + 1\n",
    "\n",
    "    for i in range(len(s)):\n",
    "        if char_count[s[i]] == 1:\n",
    "            return i\n",
    "    return -1"
   ]
  },
  {
   "cell_type": "code",
   "execution_count": 12,
   "id": "62dfebbf",
   "metadata": {},
   "outputs": [
    {
     "data": {
      "text/plain": [
       "0"
      ]
     },
     "execution_count": 12,
     "metadata": {},
     "output_type": "execute_result"
    }
   ],
   "source": [
    "uniqchar(\"leetcode\")"
   ]
  },
  {
   "cell_type": "code",
   "execution_count": 13,
   "id": "75702434",
   "metadata": {},
   "outputs": [
    {
     "data": {
      "text/plain": [
       "2"
      ]
     },
     "execution_count": 13,
     "metadata": {},
     "output_type": "execute_result"
    }
   ],
   "source": [
    "uniqchar(\"loveleetcode\")"
   ]
  },
  {
   "cell_type": "code",
   "execution_count": 14,
   "id": "71a59d9b",
   "metadata": {},
   "outputs": [
    {
     "data": {
      "text/plain": [
       "-1"
      ]
     },
     "execution_count": 14,
     "metadata": {},
     "output_type": "execute_result"
    }
   ],
   "source": [
    "uniqchar(\"aabb\")"
   ]
  },
  {
   "cell_type": "code",
   "execution_count": null,
   "id": "fdbe3e3e",
   "metadata": {},
   "outputs": [],
   "source": []
  }
 ],
 "metadata": {
  "kernelspec": {
   "display_name": "Python 3 (ipykernel)",
   "language": "python",
   "name": "python3"
  },
  "language_info": {
   "codemirror_mode": {
    "name": "ipython",
    "version": 3
   },
   "file_extension": ".py",
   "mimetype": "text/x-python",
   "name": "python",
   "nbconvert_exporter": "python",
   "pygments_lexer": "ipython3",
   "version": "3.9.16"
  }
 },
 "nbformat": 4,
 "nbformat_minor": 5
}
