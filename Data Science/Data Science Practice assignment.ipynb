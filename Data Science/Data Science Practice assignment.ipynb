{
 "cells": [
  {
   "cell_type": "markdown",
   "id": "49ffe7f0",
   "metadata": {},
   "source": [
    "### 17. Write a function that takes a list of numbers as input and returns a new list containing only the even numbers from the input list. Use list comprehension to solve this problem."
   ]
  },
  {
   "cell_type": "code",
   "execution_count": 1,
   "id": "70c34cff",
   "metadata": {},
   "outputs": [],
   "source": [
    "my_list = [1, 2, 3, 4, 5, 6, 7, 8, 9, 10]"
   ]
  },
  {
   "cell_type": "code",
   "execution_count": 2,
   "id": "cdd74d37",
   "metadata": {},
   "outputs": [],
   "source": [
    "output = [x for x in my_list if x%2 == 0]"
   ]
  },
  {
   "cell_type": "code",
   "execution_count": 3,
   "id": "1fc2a397",
   "metadata": {},
   "outputs": [
    {
     "data": {
      "text/plain": [
       "[2, 4, 6, 8, 10]"
      ]
     },
     "execution_count": 3,
     "metadata": {},
     "output_type": "execute_result"
    }
   ],
   "source": [
    "output"
   ]
  },
  {
   "cell_type": "markdown",
   "id": "5364878c",
   "metadata": {},
   "source": [
    "### 18. Implement a decorator function called ‘timer’ that measures the execution time of a function. The ‘timer’ decorator should print the time taken by the decorated function to execute. Use the ‘time’ module in Python to calculate the execution time."
   ]
  },
  {
   "cell_type": "code",
   "execution_count": 4,
   "id": "e304d3ca",
   "metadata": {},
   "outputs": [],
   "source": [
    "import time"
   ]
  },
  {
   "cell_type": "code",
   "execution_count": 16,
   "id": "c8de52fe",
   "metadata": {},
   "outputs": [],
   "source": [
    "#Creating time function \n",
    "\n",
    "def timer(func):\n",
    "    def wrapper(*args, **kwargs):\n",
    "        start_time = time.time()\n",
    "        result = func(*args, **kwargs)\n",
    "        end_time = time.time()\n",
    "        execution_time = end_time - start_time\n",
    "        print(f\"{execution_time} seconds\")\n",
    "        return result\n",
    "    return wrapper"
   ]
  },
  {
   "cell_type": "code",
   "execution_count": 24,
   "id": "d7c64c75",
   "metadata": {},
   "outputs": [],
   "source": [
    "#Define some function\n",
    "\n",
    "@timer\n",
    "def some_fun():\n",
    "    sum_result = sum(range(10**7))\n",
    "    return sum_result "
   ]
  },
  {
   "cell_type": "code",
   "execution_count": 25,
   "id": "f1039a55",
   "metadata": {},
   "outputs": [
    {
     "name": "stdout",
     "output_type": "stream",
     "text": [
      "1.000910997390747 seconds\n"
     ]
    },
    {
     "data": {
      "text/plain": [
       "49999995000000"
      ]
     },
     "execution_count": 25,
     "metadata": {},
     "output_type": "execute_result"
    }
   ],
   "source": [
    "some_fun()\n"
   ]
  },
  {
   "cell_type": "markdown",
   "id": "5e0843f4",
   "metadata": {},
   "source": [
    "### 19. Write a function called ‘calculate_mean’ that takes a list of numbers as input and returns the mean (average) of the numbers. The function should calculate the mean using the sum of the numbers divided by the total count."
   ]
  },
  {
   "cell_type": "code",
   "execution_count": 26,
   "id": "7d367e96",
   "metadata": {},
   "outputs": [],
   "source": [
    "def calculate_mean(*args):\n",
    "    total = sum(*args)\n",
    "    count = len(*args)\n",
    "    mean = total/count\n",
    "    return f\"Mean of the list above is {mean}\""
   ]
  },
  {
   "cell_type": "code",
   "execution_count": 27,
   "id": "58136a7d",
   "metadata": {},
   "outputs": [],
   "source": [
    "data = [10, 15, 20, 25, 30]"
   ]
  },
  {
   "cell_type": "code",
   "execution_count": 28,
   "id": "f1952b38",
   "metadata": {},
   "outputs": [
    {
     "data": {
      "text/plain": [
       "'Mean of the list above is 20.0'"
      ]
     },
     "execution_count": 28,
     "metadata": {},
     "output_type": "execute_result"
    }
   ],
   "source": [
    "calculate_mean(data)"
   ]
  },
  {
   "cell_type": "markdown",
   "id": "bd5a7581",
   "metadata": {},
   "source": [
    "### 20. Write a function called ‘perform_hypothesis_test’ that takes two lists of numbers as input, representing two samples. The function should perform a two-sample t-test and return the p-value. Use the ‘scipy.stats’ module in Python to calculate the t-test and p-value."
   ]
  },
  {
   "cell_type": "code",
   "execution_count": 29,
   "id": "f5a30946",
   "metadata": {},
   "outputs": [],
   "source": [
    "from scipy import stats"
   ]
  },
  {
   "cell_type": "code",
   "execution_count": 31,
   "id": "04d2fcac",
   "metadata": {},
   "outputs": [],
   "source": [
    "def perform_hypothesis_test(sample1, sample2):\n",
    "    t_statistic, p_value = stats.ttest_ind(sample1, sample2)\n",
    "    return f\"P-value for above two sample is: {p_value}\"     "
   ]
  },
  {
   "cell_type": "code",
   "execution_count": 33,
   "id": "84e70ca9",
   "metadata": {},
   "outputs": [],
   "source": [
    "sample1 = [5, 10, 15, 20, 25]\n",
    "sample2 = [10, 20, 30, 40, 50]"
   ]
  },
  {
   "cell_type": "code",
   "execution_count": 34,
   "id": "66897d49",
   "metadata": {},
   "outputs": [],
   "source": [
    "p_value = perform_hypothesis_test(sample1, sample2)"
   ]
  },
  {
   "cell_type": "code",
   "execution_count": 35,
   "id": "3c0960d1",
   "metadata": {},
   "outputs": [
    {
     "data": {
      "text/plain": [
       "'P-value for above two sample is: 0.09434977284243756'"
      ]
     },
     "execution_count": 35,
     "metadata": {},
     "output_type": "execute_result"
    }
   ],
   "source": [
    "p_value"
   ]
  }
 ],
 "metadata": {
  "kernelspec": {
   "display_name": "Python 3 (ipykernel)",
   "language": "python",
   "name": "python3"
  },
  "language_info": {
   "codemirror_mode": {
    "name": "ipython",
    "version": 3
   },
   "file_extension": ".py",
   "mimetype": "text/x-python",
   "name": "python",
   "nbconvert_exporter": "python",
   "pygments_lexer": "ipython3",
   "version": "3.9.16"
  }
 },
 "nbformat": 4,
 "nbformat_minor": 5
}
