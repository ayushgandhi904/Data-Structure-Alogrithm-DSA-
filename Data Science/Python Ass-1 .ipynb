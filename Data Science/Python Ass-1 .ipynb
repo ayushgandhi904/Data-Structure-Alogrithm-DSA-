{
 "cells": [
  {
   "cell_type": "markdown",
   "id": "d32e16d0",
   "metadata": {},
   "source": [
    "### 1. Write a Python program to reverse a string without using any built-in string reversal functions."
   ]
  },
  {
   "cell_type": "code",
   "execution_count": 3,
   "id": "f18bb860",
   "metadata": {},
   "outputs": [],
   "source": [
    "def reverse(string):\n",
    "    return string[::-1]"
   ]
  },
  {
   "cell_type": "code",
   "execution_count": 4,
   "id": "ceed89da",
   "metadata": {},
   "outputs": [
    {
     "data": {
      "text/plain": [
       "'olleH'"
      ]
     },
     "execution_count": 4,
     "metadata": {},
     "output_type": "execute_result"
    }
   ],
   "source": [
    "reverse(\"Hello\")"
   ]
  },
  {
   "cell_type": "markdown",
   "id": "d4d711ef",
   "metadata": {},
   "source": [
    "### 2. Implement a function to check if a given string is a palindrome."
   ]
  },
  {
   "cell_type": "code",
   "execution_count": 7,
   "id": "eab11d8c",
   "metadata": {},
   "outputs": [],
   "source": [
    "def pal_check(word):\n",
    "    if word == word[::-1]:\n",
    "        return True\n",
    "    else:\n",
    "        return False"
   ]
  },
  {
   "cell_type": "code",
   "execution_count": 8,
   "id": "04ff2ee3",
   "metadata": {},
   "outputs": [
    {
     "data": {
      "text/plain": [
       "False"
      ]
     },
     "execution_count": 8,
     "metadata": {},
     "output_type": "execute_result"
    }
   ],
   "source": [
    "pal_check(\"Ayush\")"
   ]
  },
  {
   "cell_type": "code",
   "execution_count": 9,
   "id": "34500d23",
   "metadata": {},
   "outputs": [
    {
     "data": {
      "text/plain": [
       "True"
      ]
     },
     "execution_count": 9,
     "metadata": {},
     "output_type": "execute_result"
    }
   ],
   "source": [
    "pal_check(\"civic\")"
   ]
  },
  {
   "cell_type": "markdown",
   "id": "339fe618",
   "metadata": {},
   "source": [
    "### 3. Write a program to find the largest element in a given list."
   ]
  },
  {
   "cell_type": "code",
   "execution_count": 10,
   "id": "36719280",
   "metadata": {},
   "outputs": [],
   "source": [
    "def largest(lst):\n",
    "    return max(lst)"
   ]
  },
  {
   "cell_type": "code",
   "execution_count": 11,
   "id": "ef8d89eb",
   "metadata": {},
   "outputs": [
    {
     "data": {
      "text/plain": [
       "1002"
      ]
     },
     "execution_count": 11,
     "metadata": {},
     "output_type": "execute_result"
    }
   ],
   "source": [
    "largest([2, 39, 234, 1002])"
   ]
  },
  {
   "cell_type": "markdown",
   "id": "abec46a7",
   "metadata": {},
   "source": [
    "### 4. Implement a function to count the occurrence of each element in a list."
   ]
  },
  {
   "cell_type": "code",
   "execution_count": 12,
   "id": "bae3e315",
   "metadata": {},
   "outputs": [],
   "source": [
    "def count(lst):\n",
    "    total_count = {}\n",
    "    for i in lst:\n",
    "        if i in total_count:\n",
    "            total_count[i] += 1\n",
    "        else:\n",
    "            total_count[i] = 1\n",
    "            \n",
    "    return total_count"
   ]
  },
  {
   "cell_type": "code",
   "execution_count": 13,
   "id": "3394faa5",
   "metadata": {},
   "outputs": [
    {
     "data": {
      "text/plain": [
       "{1: 3, 5: 3, 2: 3, 8: 1, 9: 2, 10: 1}"
      ]
     },
     "execution_count": 13,
     "metadata": {},
     "output_type": "execute_result"
    }
   ],
   "source": [
    "count([1, 5, 2, 2, 5, 1, 8, 9, 10, 9, 5, 1, 2])"
   ]
  },
  {
   "cell_type": "markdown",
   "id": "6c0f3970",
   "metadata": {},
   "source": [
    "### 5. Write a Python program to find the second largest number in a list."
   ]
  },
  {
   "cell_type": "code",
   "execution_count": 14,
   "id": "6ac04f0b",
   "metadata": {},
   "outputs": [],
   "source": [
    "def sec_largest(lst):\n",
    "    \n",
    "    largest = lst[0]\n",
    "    second_largest = float(\"-inf\")\n",
    "    \n",
    "    for i in lst[1:]:\n",
    "        if i > largest:\n",
    "            second_largest = largest\n",
    "            largest = i\n",
    "            \n",
    "        elif i > second_largest and i < largest:\n",
    "            second_largest = i\n",
    "    \n",
    "    return second_largest           "
   ]
  },
  {
   "cell_type": "code",
   "execution_count": 15,
   "id": "43b4ff5a",
   "metadata": {},
   "outputs": [
    {
     "data": {
      "text/plain": [
       "10"
      ]
     },
     "execution_count": 15,
     "metadata": {},
     "output_type": "execute_result"
    }
   ],
   "source": [
    "sec_largest([1, 5, 9, 10, 20])"
   ]
  },
  {
   "cell_type": "markdown",
   "id": "7e34f0aa",
   "metadata": {},
   "source": [
    "### 6. Implement a function to remove duplicate elements from a list."
   ]
  },
  {
   "cell_type": "code",
   "execution_count": 17,
   "id": "33996d29",
   "metadata": {},
   "outputs": [],
   "source": [
    "def rem_duplicate(lst):\n",
    "    \n",
    "    check_list = {}\n",
    "    \n",
    "    for i in lst:\n",
    "        \n",
    "        if i in check_list:\n",
    "            lst.remove(i)\n",
    "        else:\n",
    "            check_list[i] = 1\n",
    "    return lst"
   ]
  },
  {
   "cell_type": "code",
   "execution_count": 18,
   "id": "9ce70659",
   "metadata": {},
   "outputs": [
    {
     "data": {
      "text/plain": [
       "[1, 4, 8, 19, 10, 2]"
      ]
     },
     "execution_count": 18,
     "metadata": {},
     "output_type": "execute_result"
    }
   ],
   "source": [
    "rem_duplicate([1, 1, 4, 8, 19, 10, 10, 2])"
   ]
  },
  {
   "cell_type": "markdown",
   "id": "71507eaf",
   "metadata": {},
   "source": [
    "### 7. Write a program to calculate the factorial of a given number."
   ]
  },
  {
   "cell_type": "code",
   "execution_count": 23,
   "id": "be15e58d",
   "metadata": {},
   "outputs": [],
   "source": [
    "def factorial(num):\n",
    "    \n",
    "    if num == 0 or num == 1:\n",
    "        return 1\n",
    "    else:\n",
    "        result = 1\n",
    "        for i in range(1, num+1):\n",
    "            result *= i\n",
    "        return result"
   ]
  },
  {
   "cell_type": "code",
   "execution_count": 24,
   "id": "daba0b59",
   "metadata": {},
   "outputs": [
    {
     "data": {
      "text/plain": [
       "120"
      ]
     },
     "execution_count": 24,
     "metadata": {},
     "output_type": "execute_result"
    }
   ],
   "source": [
    "factorial(5)"
   ]
  },
  {
   "cell_type": "markdown",
   "id": "882aa070",
   "metadata": {},
   "source": [
    "### 8. Implement a function to check if a given number is prime."
   ]
  },
  {
   "cell_type": "code",
   "execution_count": 35,
   "id": "dbe6f17a",
   "metadata": {},
   "outputs": [],
   "source": [
    "def prime_check(num):\n",
    "    \n",
    "    for i in range(2, num):\n",
    "        if num%i == 0:\n",
    "            return False\n",
    "    return True"
   ]
  },
  {
   "cell_type": "code",
   "execution_count": 36,
   "id": "aa35c6f1",
   "metadata": {},
   "outputs": [
    {
     "data": {
      "text/plain": [
       "True"
      ]
     },
     "execution_count": 36,
     "metadata": {},
     "output_type": "execute_result"
    }
   ],
   "source": [
    "prime_check(7)"
   ]
  },
  {
   "cell_type": "code",
   "execution_count": 37,
   "id": "7814f223",
   "metadata": {},
   "outputs": [
    {
     "data": {
      "text/plain": [
       "False"
      ]
     },
     "execution_count": 37,
     "metadata": {},
     "output_type": "execute_result"
    }
   ],
   "source": [
    "prime_check(96)"
   ]
  },
  {
   "cell_type": "markdown",
   "id": "336fb623",
   "metadata": {},
   "source": [
    "### 9. Write a Python program to sort a list of integers in ascending order."
   ]
  },
  {
   "cell_type": "code",
   "execution_count": 38,
   "id": "db0a291b",
   "metadata": {},
   "outputs": [],
   "source": [
    "def sort_list(lst):\n",
    "    return sorted(lst)"
   ]
  },
  {
   "cell_type": "code",
   "execution_count": 39,
   "id": "1b1c3d2b",
   "metadata": {},
   "outputs": [
    {
     "data": {
      "text/plain": [
       "[10, 12, 598, 2943]"
      ]
     },
     "execution_count": 39,
     "metadata": {},
     "output_type": "execute_result"
    }
   ],
   "source": [
    "sort_list([598, 2943, 12, 10])"
   ]
  },
  {
   "cell_type": "markdown",
   "id": "e6b3b105",
   "metadata": {},
   "source": [
    "### 10. Implement a function to find the sum of all numbers in a list."
   ]
  },
  {
   "cell_type": "code",
   "execution_count": 40,
   "id": "0b815986",
   "metadata": {},
   "outputs": [],
   "source": [
    "def list_sum(lst):\n",
    "    \n",
    "    sum_ = 0\n",
    "    for i in lst:\n",
    "        sum_ += i\n",
    "        \n",
    "    return sum_"
   ]
  },
  {
   "cell_type": "code",
   "execution_count": 41,
   "id": "269e8a8b",
   "metadata": {},
   "outputs": [
    {
     "data": {
      "text/plain": [
       "20"
      ]
     },
     "execution_count": 41,
     "metadata": {},
     "output_type": "execute_result"
    }
   ],
   "source": [
    "list_sum([1, 2, 3, 4, 10])"
   ]
  },
  {
   "cell_type": "markdown",
   "id": "f47a0599",
   "metadata": {},
   "source": [
    "### 11. Write a program to find the common elements between two lists."
   ]
  },
  {
   "cell_type": "code",
   "execution_count": 54,
   "id": "51bb564c",
   "metadata": {},
   "outputs": [],
   "source": [
    "def common(lst1, lst2):\n",
    "    \n",
    "    a = []\n",
    "    \n",
    "    for i in lst2:\n",
    "        if i in lst1 and i not in a:\n",
    "            a.append(i)\n",
    "    return a"
   ]
  },
  {
   "cell_type": "code",
   "execution_count": 55,
   "id": "62779891",
   "metadata": {},
   "outputs": [
    {
     "data": {
      "text/plain": [
       "[4, 2]"
      ]
     },
     "execution_count": 55,
     "metadata": {},
     "output_type": "execute_result"
    }
   ],
   "source": [
    "common([1, 2, 4], [4, 2, 18])"
   ]
  },
  {
   "cell_type": "markdown",
   "id": "29423843",
   "metadata": {},
   "source": [
    "### 12. Implement a function to check if a given string is an anagram of another string."
   ]
  },
  {
   "cell_type": "code",
   "execution_count": 56,
   "id": "53d21055",
   "metadata": {},
   "outputs": [],
   "source": [
    "def anagram(str1, str2):\n",
    "    \n",
    "    str1_ = {}\n",
    "    str2_ = {}\n",
    "    \n",
    "    for i in str1:\n",
    "        str1_[i] = str1_.get(i, 0) + 1\n",
    "    \n",
    "    for j in str2:\n",
    "        str2_[j] = str2_.get(j, 0) + 1\n",
    "        \n",
    "    if str1_ == str2_:\n",
    "        return True\n",
    "    else:\n",
    "        return False\n",
    "        "
   ]
  },
  {
   "cell_type": "code",
   "execution_count": 58,
   "id": "b96588c9",
   "metadata": {},
   "outputs": [
    {
     "data": {
      "text/plain": [
       "False"
      ]
     },
     "execution_count": 58,
     "metadata": {},
     "output_type": "execute_result"
    }
   ],
   "source": [
    "anagram(\"ayush\", \"hemil\")"
   ]
  },
  {
   "cell_type": "code",
   "execution_count": 59,
   "id": "28a8bec8",
   "metadata": {},
   "outputs": [
    {
     "data": {
      "text/plain": [
       "True"
      ]
     },
     "execution_count": 59,
     "metadata": {},
     "output_type": "execute_result"
    }
   ],
   "source": [
    "anagram(\"words\", \"sword\")"
   ]
  },
  {
   "cell_type": "markdown",
   "id": "83500762",
   "metadata": {},
   "source": [
    "### 13. Write a Python program to generate all permutations of a given string."
   ]
  },
  {
   "cell_type": "code",
   "execution_count": 85,
   "id": "a37d4e5e",
   "metadata": {},
   "outputs": [],
   "source": [
    "def generate_permutations(string):\n",
    "    \n",
    "    if len(string) == 1:\n",
    "        return [string]\n",
    "\n",
    "\n",
    "    permutations = []  \n",
    "    for i in range(len(string)):\n",
    "        char = string[i]\n",
    "        remaining_chars = string[:i] + string[i+1:]  \n",
    "\n",
    "        \n",
    "        sub_permutations = generate_permutations(remaining_chars)\n",
    "\n",
    "        for permutation in sub_permutations:\n",
    "            permutations.append(char + permutation)\n",
    "\n",
    "    return permutations"
   ]
  },
  {
   "cell_type": "code",
   "execution_count": 88,
   "id": "c3eab832",
   "metadata": {},
   "outputs": [
    {
     "data": {
      "text/plain": [
       "['Helo',\n",
       " 'Heol',\n",
       " 'Hleo',\n",
       " 'Hloe',\n",
       " 'Hoel',\n",
       " 'Hole',\n",
       " 'eHlo',\n",
       " 'eHol',\n",
       " 'elHo',\n",
       " 'eloH',\n",
       " 'eoHl',\n",
       " 'eolH',\n",
       " 'lHeo',\n",
       " 'lHoe',\n",
       " 'leHo',\n",
       " 'leoH',\n",
       " 'loHe',\n",
       " 'loeH',\n",
       " 'oHel',\n",
       " 'oHle',\n",
       " 'oeHl',\n",
       " 'oelH',\n",
       " 'olHe',\n",
       " 'oleH']"
      ]
     },
     "execution_count": 88,
     "metadata": {},
     "output_type": "execute_result"
    }
   ],
   "source": [
    "generate_permutations(\"Helo\")"
   ]
  },
  {
   "cell_type": "markdown",
   "id": "039f250c",
   "metadata": {},
   "source": [
    "### 14. Implement a function to calculate the Fibonacci sequence up to a given number of terms."
   ]
  },
  {
   "cell_type": "code",
   "execution_count": 94,
   "id": "2f7eeb79",
   "metadata": {},
   "outputs": [],
   "source": [
    "def fibonacci(num):\n",
    "    \n",
    "    if num == 0:\n",
    "        return 0\n",
    "    elif num == 1:\n",
    "        return 1\n",
    "    \n",
    "    else:\n",
    "        x = 0\n",
    "        y = 1\n",
    "        \n",
    "        seq = [0,1]\n",
    "        \n",
    "        for i in range(num):\n",
    "            \n",
    "            x, y = y, x+y\n",
    "            seq.append(y)\n",
    "            \n",
    "    return seq          \n",
    "            "
   ]
  },
  {
   "cell_type": "code",
   "execution_count": 95,
   "id": "16da8971",
   "metadata": {},
   "outputs": [
    {
     "data": {
      "text/plain": [
       "[0, 1, 1, 2, 3, 5, 8, 13, 21, 34]"
      ]
     },
     "execution_count": 95,
     "metadata": {},
     "output_type": "execute_result"
    }
   ],
   "source": [
    "fibonacci(8)"
   ]
  },
  {
   "cell_type": "markdown",
   "id": "2aeeb0b1",
   "metadata": {},
   "source": [
    "### 15. Write a program to find the median of a list of numbers"
   ]
  },
  {
   "cell_type": "code",
   "execution_count": 100,
   "id": "c598b246",
   "metadata": {},
   "outputs": [],
   "source": [
    "def median(lst):\n",
    "    \n",
    "    num = sorted(lst)\n",
    "    length = len(lst)\n",
    "    mid = length//2\n",
    "    \n",
    "    if length%2 == 0:\n",
    "        med = (num[mid-1] + num[mid])/2\n",
    "    else:\n",
    "        med = num[mid]\n",
    "        \n",
    "    return med"
   ]
  },
  {
   "cell_type": "code",
   "execution_count": 101,
   "id": "59a03c39",
   "metadata": {},
   "outputs": [
    {
     "data": {
      "text/plain": [
       "7.5"
      ]
     },
     "execution_count": 101,
     "metadata": {},
     "output_type": "execute_result"
    }
   ],
   "source": [
    "median([1, 5, 82, 10])"
   ]
  },
  {
   "cell_type": "markdown",
   "id": "4458c361",
   "metadata": {},
   "source": [
    "### 16. Implement a function to check if a given list is sorted in non-decreasing order."
   ]
  },
  {
   "cell_type": "code",
   "execution_count": 112,
   "id": "484b905a",
   "metadata": {},
   "outputs": [],
   "source": [
    "def sorted_check(lst):\n",
    "    \n",
    "    for i in range(len(lst) - 1):\n",
    "        if lst[i] > lst[i + 1]:\n",
    "            return False\n",
    "    \n",
    "    return True"
   ]
  },
  {
   "cell_type": "code",
   "execution_count": 113,
   "id": "273ed9f8",
   "metadata": {},
   "outputs": [
    {
     "data": {
      "text/plain": [
       "True"
      ]
     },
     "execution_count": 113,
     "metadata": {},
     "output_type": "execute_result"
    }
   ],
   "source": [
    "sorted_check([15, 19])"
   ]
  },
  {
   "cell_type": "code",
   "execution_count": 115,
   "id": "f6d95b73",
   "metadata": {},
   "outputs": [
    {
     "data": {
      "text/plain": [
       "False"
      ]
     },
     "execution_count": 115,
     "metadata": {},
     "output_type": "execute_result"
    }
   ],
   "source": [
    "sorted_check([1599, 19, 2])"
   ]
  },
  {
   "cell_type": "markdown",
   "id": "f3ea276f",
   "metadata": {},
   "source": [
    "### 17. Write a Python program to find the intersection of two lists."
   ]
  },
  {
   "cell_type": "code",
   "execution_count": 117,
   "id": "ce655559",
   "metadata": {},
   "outputs": [],
   "source": [
    "def intersect(lst1, lst2):\n",
    "    \n",
    "    a = []\n",
    "    \n",
    "    for i in lst2:\n",
    "        if i in lst1 and i not in a:\n",
    "            a.append(i)\n",
    "    return a"
   ]
  },
  {
   "cell_type": "code",
   "execution_count": 118,
   "id": "3612fc6d",
   "metadata": {},
   "outputs": [
    {
     "data": {
      "text/plain": [
       "[12, -9]"
      ]
     },
     "execution_count": 118,
     "metadata": {},
     "output_type": "execute_result"
    }
   ],
   "source": [
    "intersect([8, 12, 28, -9], [20, 30, 12, -9, -11])"
   ]
  },
  {
   "cell_type": "markdown",
   "id": "7fac0de2",
   "metadata": {},
   "source": [
    "### 18. Implement a function to find the maximum subarray sum in a given list."
   ]
  },
  {
   "cell_type": "code",
   "execution_count": 119,
   "id": "cfffa1f0",
   "metadata": {},
   "outputs": [],
   "source": [
    "def max_subarray(lst):\n",
    "    \n",
    "    current_sum = max_sum = lst[0]\n",
    "    \n",
    "    for i in lst[1:]:\n",
    "        current_sum = max(i, current_sum + i)\n",
    "        max_sum = max(max_sum, current_sum)\n",
    "        \n",
    "    return max_sum"
   ]
  },
  {
   "cell_type": "code",
   "execution_count": 120,
   "id": "d5f652b0",
   "metadata": {},
   "outputs": [
    {
     "data": {
      "text/plain": [
       "25"
      ]
     },
     "execution_count": 120,
     "metadata": {},
     "output_type": "execute_result"
    }
   ],
   "source": [
    "max_subarray([1, 5, -1, 20, -40, 10])"
   ]
  },
  {
   "cell_type": "markdown",
   "id": "35667de8",
   "metadata": {},
   "source": [
    "### 19. Write a program to remove all vowels from a given string."
   ]
  },
  {
   "cell_type": "code",
   "execution_count": 121,
   "id": "96c7f4fb",
   "metadata": {},
   "outputs": [],
   "source": [
    "def rem_vowel(string):\n",
    "    \n",
    "    vowel = \"aeiouAEIOU\"\n",
    "    new_string = \"\"\n",
    "    \n",
    "    for i in string:\n",
    "        if i not in vowel:\n",
    "            new_string += i\n",
    "            \n",
    "    return new_string"
   ]
  },
  {
   "cell_type": "code",
   "execution_count": 122,
   "id": "4d8acced",
   "metadata": {},
   "outputs": [
    {
     "data": {
      "text/plain": [
       "'ysh'"
      ]
     },
     "execution_count": 122,
     "metadata": {},
     "output_type": "execute_result"
    }
   ],
   "source": [
    "rem_vowel(\"Ayush\")"
   ]
  },
  {
   "cell_type": "markdown",
   "id": "a9661c2c",
   "metadata": {},
   "source": [
    "### 20. Implement a function to reverse the order of words in a given sentence."
   ]
  },
  {
   "cell_type": "code",
   "execution_count": 130,
   "id": "689c325e",
   "metadata": {},
   "outputs": [],
   "source": [
    "def reverse(words):\n",
    "    words = words.split()\n",
    "    reversed_words = words[::-1]\n",
    "    reversed_sentence = ' '.join(reversed_words)\n",
    "    return reversed_sentence"
   ]
  },
  {
   "cell_type": "code",
   "execution_count": 132,
   "id": "9e71e4e4",
   "metadata": {},
   "outputs": [
    {
     "data": {
      "text/plain": [
       "'Person nice a is Ayush'"
      ]
     },
     "execution_count": 132,
     "metadata": {},
     "output_type": "execute_result"
    }
   ],
   "source": [
    "reverse(\"Ayush is a nice Person\")"
   ]
  },
  {
   "cell_type": "markdown",
   "id": "4df2edf8",
   "metadata": {},
   "source": [
    "### 21. Write a Python program to check if two strings are anagrams of each other."
   ]
  },
  {
   "cell_type": "code",
   "execution_count": 133,
   "id": "310cfd64",
   "metadata": {},
   "outputs": [],
   "source": [
    "def anagram(str1, str2):\n",
    "    \n",
    "    str1_ = {}\n",
    "    str2_ = {}\n",
    "    \n",
    "    for i in str1:\n",
    "        str1_[i] = str1_.get(i, 0) + 1\n",
    "    \n",
    "    for j in str2:\n",
    "        str2_[j] = str2_.get(j, 0) + 1\n",
    "        \n",
    "    if str1_ == str2_:\n",
    "        return True\n",
    "    else:\n",
    "        return False\n",
    "        "
   ]
  },
  {
   "cell_type": "code",
   "execution_count": 134,
   "id": "3512c685",
   "metadata": {},
   "outputs": [
    {
     "data": {
      "text/plain": [
       "False"
      ]
     },
     "execution_count": 134,
     "metadata": {},
     "output_type": "execute_result"
    }
   ],
   "source": [
    "anagram(\"ayush\", \"husha\")"
   ]
  },
  {
   "cell_type": "markdown",
   "id": "78bcdc3a",
   "metadata": {},
   "source": [
    "### 22. Implement a function to find the first non-repeating character in a string."
   ]
  },
  {
   "cell_type": "code",
   "execution_count": 135,
   "id": "5b3302b0",
   "metadata": {},
   "outputs": [],
   "source": [
    "def first_nr(string):\n",
    "    \n",
    "    check = {}\n",
    "    \n",
    "    for i in string:\n",
    "        check[i] = check.get(i, 0) + 1\n",
    "        \n",
    "    for i in string:\n",
    "        if check[i] == 1:\n",
    "            return i\n",
    "            "
   ]
  },
  {
   "cell_type": "code",
   "execution_count": 137,
   "id": "02a63b4b",
   "metadata": {},
   "outputs": [
    {
     "data": {
      "text/plain": [
       "'y'"
      ]
     },
     "execution_count": 137,
     "metadata": {},
     "output_type": "execute_result"
    }
   ],
   "source": [
    "first_nr(\"ayushad\")"
   ]
  },
  {
   "cell_type": "markdown",
   "id": "9a0a1953",
   "metadata": {},
   "source": [
    "### 23. Write a program to find the prime factors of a given number."
   ]
  },
  {
   "cell_type": "code",
   "execution_count": 145,
   "id": "1c7b93d6",
   "metadata": {},
   "outputs": [],
   "source": [
    "def prime_factors(num):\n",
    "    \n",
    "    factors = []\n",
    "    \n",
    "    divisor = 2\n",
    "    \n",
    "    while divisor <= num:\n",
    "        \n",
    "        if num % divisor == 0:\n",
    "            factors.append(divisor)\n",
    "            num //= divisor\n",
    "        else:\n",
    "            divisor += 1\n",
    "    return factors"
   ]
  },
  {
   "cell_type": "code",
   "execution_count": 147,
   "id": "f10dd55c",
   "metadata": {},
   "outputs": [
    {
     "data": {
      "text/plain": [
       "[2, 2, 3, 67]"
      ]
     },
     "execution_count": 147,
     "metadata": {},
     "output_type": "execute_result"
    }
   ],
   "source": [
    "prime_factors(804)"
   ]
  },
  {
   "cell_type": "markdown",
   "id": "59e0b513",
   "metadata": {},
   "source": [
    "### 24. Implement a function to check if a given number is a power of two."
   ]
  },
  {
   "cell_type": "code",
   "execution_count": 154,
   "id": "13348954",
   "metadata": {},
   "outputs": [],
   "source": [
    "def power_check(number):\n",
    "\n",
    "    while number % 2 == 0:\n",
    "        number //= 2\n",
    "\n",
    "    return number == 1"
   ]
  },
  {
   "cell_type": "code",
   "execution_count": 155,
   "id": "ed1bb450",
   "metadata": {},
   "outputs": [
    {
     "data": {
      "text/plain": [
       "False"
      ]
     },
     "execution_count": 155,
     "metadata": {},
     "output_type": "execute_result"
    }
   ],
   "source": [
    "power_check(48)"
   ]
  },
  {
   "cell_type": "markdown",
   "id": "64f1f89a",
   "metadata": {},
   "source": [
    "### 25. Write a Python program to merge two sorted lists into a single sorted list."
   ]
  },
  {
   "cell_type": "code",
   "execution_count": 156,
   "id": "cf74fe6c",
   "metadata": {},
   "outputs": [],
   "source": [
    "def merge_sorted_lists(list1, list2):\n",
    "    merged_list = []\n",
    "    i = j = 0\n",
    "\n",
    "    while i < len(list1) and j < len(list2):\n",
    "        if list1[i] <= list2[j]:\n",
    "            merged_list.append(list1[i])\n",
    "            i += 1\n",
    "        else:\n",
    "            merged_list.append(list2[j])\n",
    "            j += 1\n",
    "    while i < len(list1):\n",
    "        merged_list.append(list1[i])\n",
    "        i += 1\n",
    "    while j < len(list2):\n",
    "        merged_list.append(list2[j])\n",
    "        j += 1\n",
    "\n",
    "    return merged_list"
   ]
  },
  {
   "cell_type": "code",
   "execution_count": 158,
   "id": "554dfb2d",
   "metadata": {},
   "outputs": [
    {
     "data": {
      "text/plain": [
       "[1, 19, 100, 200, 200, 300]"
      ]
     },
     "execution_count": 158,
     "metadata": {},
     "output_type": "execute_result"
    }
   ],
   "source": [
    "merge_sorted_lists([1, 19, 200], [100, 200, 300])"
   ]
  },
  {
   "cell_type": "markdown",
   "id": "aa15de25",
   "metadata": {},
   "source": [
    "### 26. Implement a function to find the mode of a list of numbers."
   ]
  },
  {
   "cell_type": "code",
   "execution_count": 161,
   "id": "307b13b9",
   "metadata": {},
   "outputs": [],
   "source": [
    "def mode(lst):\n",
    "    \n",
    "    check = {}\n",
    "    for i in lst:\n",
    "        check[i] = check.get(i, 0) + 1\n",
    "        \n",
    "    return max(check.values())\n",
    "        \n",
    "        "
   ]
  },
  {
   "cell_type": "code",
   "execution_count": 162,
   "id": "944053b4",
   "metadata": {},
   "outputs": [
    {
     "data": {
      "text/plain": [
       "2"
      ]
     },
     "execution_count": 162,
     "metadata": {},
     "output_type": "execute_result"
    }
   ],
   "source": [
    "mode([1, 2, 3, 2])"
   ]
  },
  {
   "cell_type": "markdown",
   "id": "d5428251",
   "metadata": {},
   "source": [
    "### 27. Write a program to find the greatest common divisor (GCD) of two numbers."
   ]
  },
  {
   "cell_type": "code",
   "execution_count": 165,
   "id": "b75cf5d9",
   "metadata": {},
   "outputs": [],
   "source": [
    "def gcd(a, b):\n",
    "    \n",
    "    while b != 0:\n",
    "        a, b = b, a%b\n",
    "    return a"
   ]
  },
  {
   "cell_type": "code",
   "execution_count": 166,
   "id": "2c0b0255",
   "metadata": {},
   "outputs": [
    {
     "data": {
      "text/plain": [
       "2"
      ]
     },
     "execution_count": 166,
     "metadata": {},
     "output_type": "execute_result"
    }
   ],
   "source": [
    "gcd(12,46)"
   ]
  },
  {
   "cell_type": "markdown",
   "id": "ff01332e",
   "metadata": {},
   "source": [
    "### 28. Implement a function to calculate the square root of a given number."
   ]
  },
  {
   "cell_type": "code",
   "execution_count": 168,
   "id": "a5ee286f",
   "metadata": {},
   "outputs": [],
   "source": [
    "def sqrt(num):\n",
    "    \n",
    "    return num**0.5"
   ]
  },
  {
   "cell_type": "code",
   "execution_count": 169,
   "id": "b6403cd1",
   "metadata": {},
   "outputs": [
    {
     "data": {
      "text/plain": [
       "6.244997998398398"
      ]
     },
     "execution_count": 169,
     "metadata": {},
     "output_type": "execute_result"
    }
   ],
   "source": [
    "sqrt(39)"
   ]
  },
  {
   "cell_type": "markdown",
   "id": "91784119",
   "metadata": {},
   "source": [
    "### 29. Write a Python program to check if a given string is a valid palindrome ignoring non-alphanumeric characters."
   ]
  },
  {
   "cell_type": "code",
   "execution_count": 170,
   "id": "42b6117b",
   "metadata": {},
   "outputs": [],
   "source": [
    "import re\n",
    "\n",
    "def is_valid_palindrome(string):\n",
    "    \n",
    "    alphanumeric_string = re.sub(r'[^a-zA-Z0-9]', '', string).lower()\n",
    "    return alphanumeric_string == alphanumeric_string[::-1]"
   ]
  },
  {
   "cell_type": "code",
   "execution_count": 172,
   "id": "75bda7c6",
   "metadata": {},
   "outputs": [
    {
     "data": {
      "text/plain": [
       "False"
      ]
     },
     "execution_count": 172,
     "metadata": {},
     "output_type": "execute_result"
    }
   ],
   "source": [
    "is_valid_palindrome(\"ayu12uya\")"
   ]
  },
  {
   "cell_type": "markdown",
   "id": "1e37a056",
   "metadata": {},
   "source": [
    "### 30. Implement a function to find the minimum element in a rotated sorted list."
   ]
  },
  {
   "cell_type": "code",
   "execution_count": 173,
   "id": "34797950",
   "metadata": {},
   "outputs": [],
   "source": [
    "def find_min_element(rotated_list):\n",
    "    left = 0\n",
    "    right = len(rotated_list) - 1\n",
    "\n",
    "    while left < right:\n",
    "        mid = left + (right - left) // 2\n",
    "\n",
    "        if rotated_list[mid] > rotated_list[right]:\n",
    "            left = mid + 1\n",
    "        else:\n",
    "            right = mid\n",
    "\n",
    "    return rotated_list[left]"
   ]
  },
  {
   "cell_type": "code",
   "execution_count": 174,
   "id": "6a6ff9ee",
   "metadata": {},
   "outputs": [
    {
     "data": {
      "text/plain": [
       "0"
      ]
     },
     "execution_count": 174,
     "metadata": {},
     "output_type": "execute_result"
    }
   ],
   "source": [
    "find_min_element([4, 5, 6, 7, 0, 1, 2])"
   ]
  },
  {
   "cell_type": "markdown",
   "id": "413e327f",
   "metadata": {},
   "source": [
    "### 31. Write a program to find the sum of all even numbers in a list."
   ]
  },
  {
   "cell_type": "code",
   "execution_count": 177,
   "id": "5a3598cd",
   "metadata": {},
   "outputs": [],
   "source": [
    "def even_sum(lst):\n",
    "    \n",
    "    new_list = [x for x in lst if x%2 == 0]\n",
    "    \n",
    "    new_sum = sum(new_list)\n",
    "    \n",
    "    return new_sum"
   ]
  },
  {
   "cell_type": "code",
   "execution_count": 178,
   "id": "c1d650cb",
   "metadata": {},
   "outputs": [
    {
     "data": {
      "text/plain": [
       "6"
      ]
     },
     "execution_count": 178,
     "metadata": {},
     "output_type": "execute_result"
    }
   ],
   "source": [
    "even_sum([1, 2, 3, 4])"
   ]
  },
  {
   "cell_type": "markdown",
   "id": "7b5f6853",
   "metadata": {},
   "source": [
    "### 32. Implement a function to calculate the power of a number using recursion."
   ]
  },
  {
   "cell_type": "code",
   "execution_count": 181,
   "id": "a956b686",
   "metadata": {},
   "outputs": [],
   "source": [
    "def power(base, exponent):\n",
    "    \n",
    "    if exponent == 0:\n",
    "        return 1\n",
    "    elif exponent < 0:\n",
    "        return 1/power(base, -exponent)\n",
    "    \n",
    "    else:\n",
    "        return base* power(base, exponent - 1)"
   ]
  },
  {
   "cell_type": "code",
   "execution_count": 182,
   "id": "5a0e8a28",
   "metadata": {},
   "outputs": [
    {
     "data": {
      "text/plain": [
       "1024"
      ]
     },
     "execution_count": 182,
     "metadata": {},
     "output_type": "execute_result"
    }
   ],
   "source": [
    "power(2, 10)"
   ]
  },
  {
   "cell_type": "markdown",
   "id": "d40ffe12",
   "metadata": {},
   "source": [
    "### 33. Write a Python program to remove duplicates from a list while preserving the order."
   ]
  },
  {
   "cell_type": "code",
   "execution_count": 183,
   "id": "dfeaa123",
   "metadata": {},
   "outputs": [],
   "source": [
    "def remove_duplicates(lst):\n",
    "    seen = set()\n",
    "    result = []\n",
    "    \n",
    "    for item in lst:\n",
    "        if item not in seen:\n",
    "            seen.add(item)\n",
    "            result.append(item)\n",
    "    \n",
    "    return result"
   ]
  },
  {
   "cell_type": "code",
   "execution_count": 184,
   "id": "98c68fe4",
   "metadata": {},
   "outputs": [
    {
     "data": {
      "text/plain": [
       "[1, 2, 3, 4, 5, 10]"
      ]
     },
     "execution_count": 184,
     "metadata": {},
     "output_type": "execute_result"
    }
   ],
   "source": [
    "remove_duplicates([1, 2, 1, 3, 3, 4, 5, 10])"
   ]
  },
  {
   "cell_type": "markdown",
   "id": "33cd8277",
   "metadata": {},
   "source": [
    "### 34. Implement a function to find the longest common prefix among a list of strings."
   ]
  },
  {
   "cell_type": "code",
   "execution_count": 185,
   "id": "e1ac72eb",
   "metadata": {},
   "outputs": [],
   "source": [
    "def longest_common_prefix(strs):\n",
    "    if not strs:\n",
    "        return \"\"\n",
    "\n",
    "    prefix = strs[0]\n",
    "\n",
    "    for i in range(1, len(strs)):\n",
    "        while not strs[i].startswith(prefix):\n",
    "            prefix = prefix[:-1] \n",
    "            if not prefix: \n",
    "                return \"\"\n",
    "\n",
    "    return prefix"
   ]
  },
  {
   "cell_type": "code",
   "execution_count": 186,
   "id": "e0c3ba43",
   "metadata": {},
   "outputs": [
    {
     "data": {
      "text/plain": [
       "'fl'"
      ]
     },
     "execution_count": 186,
     "metadata": {},
     "output_type": "execute_result"
    }
   ],
   "source": [
    "longest_common_prefix([\"flowers\", \"flow\", \"flight\"])"
   ]
  },
  {
   "cell_type": "markdown",
   "id": "b37e467f",
   "metadata": {},
   "source": [
    "### 35. Write a program to check if a given number is a perfect square."
   ]
  },
  {
   "cell_type": "code",
   "execution_count": 191,
   "id": "27813a63",
   "metadata": {},
   "outputs": [],
   "source": [
    "def sqr_check(num):\n",
    "    \n",
    "    root = 0\n",
    "    while root * root <= num:\n",
    "        if root * root == num:\n",
    "            return True\n",
    "        root += 1\n",
    "    return False"
   ]
  },
  {
   "cell_type": "code",
   "execution_count": 192,
   "id": "686be573",
   "metadata": {},
   "outputs": [
    {
     "data": {
      "text/plain": [
       "True"
      ]
     },
     "execution_count": 192,
     "metadata": {},
     "output_type": "execute_result"
    }
   ],
   "source": [
    "sqr_check(4)"
   ]
  },
  {
   "cell_type": "markdown",
   "id": "88edc09c",
   "metadata": {},
   "source": [
    "### 36. Implement a function to calculate the product of all elements in a list."
   ]
  },
  {
   "cell_type": "code",
   "execution_count": 193,
   "id": "fefc1c6d",
   "metadata": {},
   "outputs": [],
   "source": [
    "def mul_list(lst):\n",
    "    \n",
    "    a = 1\n",
    "    \n",
    "    for i in lst:\n",
    "        a *= i\n",
    "        \n",
    "    return a"
   ]
  },
  {
   "cell_type": "code",
   "execution_count": 194,
   "id": "bcedca97",
   "metadata": {},
   "outputs": [
    {
     "data": {
      "text/plain": [
       "600"
      ]
     },
     "execution_count": 194,
     "metadata": {},
     "output_type": "execute_result"
    }
   ],
   "source": [
    "mul_list([5, 10, 12])"
   ]
  },
  {
   "cell_type": "markdown",
   "id": "bed3091c",
   "metadata": {},
   "source": [
    "### 37. Write a Python program to reverse the order of words in a sentence while preserving the word order."
   ]
  },
  {
   "cell_type": "code",
   "execution_count": 195,
   "id": "47801b50",
   "metadata": {},
   "outputs": [],
   "source": [
    "def reverse(words):\n",
    "    words = words.split()\n",
    "    reversed_words = words[::-1]\n",
    "    reversed_sentence = ' '.join(reversed_words)\n",
    "    return reversed_sentence"
   ]
  },
  {
   "cell_type": "code",
   "execution_count": 196,
   "id": "a0e2cf37",
   "metadata": {},
   "outputs": [
    {
     "data": {
      "text/plain": [
       "'day! good a have Hello,'"
      ]
     },
     "execution_count": 196,
     "metadata": {},
     "output_type": "execute_result"
    }
   ],
   "source": [
    "reverse(\"Hello, have a good day!\")"
   ]
  },
  {
   "cell_type": "markdown",
   "id": "a7d1c253",
   "metadata": {},
   "source": [
    "### 38. Implement a function to find the missing number in a given list of consecutive numbers."
   ]
  },
  {
   "cell_type": "code",
   "execution_count": 200,
   "id": "071c2b1f",
   "metadata": {},
   "outputs": [],
   "source": [
    "def check(lst):\n",
    "    \n",
    "    max_ = max(lst)\n",
    "    min_ = min(lst)\n",
    "    \n",
    "    for i in range(min_, max_):\n",
    "        if i not in lst:\n",
    "            return i"
   ]
  },
  {
   "cell_type": "code",
   "execution_count": 201,
   "id": "1d9a51c8",
   "metadata": {},
   "outputs": [
    {
     "data": {
      "text/plain": [
       "101"
      ]
     },
     "execution_count": 201,
     "metadata": {},
     "output_type": "execute_result"
    }
   ],
   "source": [
    "check([100, 102, 103, 104, 105])"
   ]
  },
  {
   "cell_type": "markdown",
   "id": "29045444",
   "metadata": {},
   "source": [
    "### 39. Write a program to find the sum of digits of a given number."
   ]
  },
  {
   "cell_type": "code",
   "execution_count": 203,
   "id": "1a0d194f",
   "metadata": {},
   "outputs": [],
   "source": [
    "def digit_sum(num):\n",
    "    \n",
    "    str_convert = str(num)\n",
    "    \n",
    "    sum_ = 0\n",
    "    for i in str_convert:\n",
    "        sum_ += int(i)\n",
    "        \n",
    "    return sum_  \n",
    "        "
   ]
  },
  {
   "cell_type": "code",
   "execution_count": 204,
   "id": "3a19155d",
   "metadata": {},
   "outputs": [
    {
     "data": {
      "text/plain": [
       "4"
      ]
     },
     "execution_count": 204,
     "metadata": {},
     "output_type": "execute_result"
    }
   ],
   "source": [
    "digit_sum(202)"
   ]
  },
  {
   "cell_type": "markdown",
   "id": "15515f23",
   "metadata": {},
   "source": [
    "###  40. Implement a function to check if a given string is a valid palindrome considering case sensitivity. "
   ]
  },
  {
   "cell_type": "code",
   "execution_count": 205,
   "id": "542ef26e",
   "metadata": {},
   "outputs": [],
   "source": [
    "def is_valid_palindrome(string):\n",
    "    alphanumeric_string = ''.join(char.lower() for char in string if char.isalnum())\n",
    "\n",
    "    return alphanumeric_string == alphanumeric_string[::-1]"
   ]
  },
  {
   "cell_type": "code",
   "execution_count": 206,
   "id": "9a3c7302",
   "metadata": {},
   "outputs": [
    {
     "data": {
      "text/plain": [
       "True"
      ]
     },
     "execution_count": 206,
     "metadata": {},
     "output_type": "execute_result"
    }
   ],
   "source": [
    "is_valid_palindrome(\"A man, a plan, a canal: Panama\")"
   ]
  },
  {
   "cell_type": "markdown",
   "id": "189e2e88",
   "metadata": {},
   "source": [
    "### 41. Write a Python program to find the smallest missing positive integer in a list."
   ]
  },
  {
   "cell_type": "code",
   "execution_count": 207,
   "id": "fed7ebbf",
   "metadata": {},
   "outputs": [],
   "source": [
    "def find_smallest(nums):\n",
    "    n = len(nums)\n",
    "    \n",
    "    i = 0\n",
    "    while i < n:\n",
    "        if 0 < nums[i] <= n and nums[i] != nums[nums[i] - 1]:\n",
    "            nums[nums[i] - 1], nums[i] = nums[i], nums[nums[i] - 1]\n",
    "        else:\n",
    "            i += 1\n",
    "\n",
    "    for i in range(n):\n",
    "        if nums[i] != i + 1:\n",
    "            return i + 1\n",
    "\n",
    "    return n + 1"
   ]
  },
  {
   "cell_type": "code",
   "execution_count": 208,
   "id": "933e4d98",
   "metadata": {},
   "outputs": [
    {
     "data": {
      "text/plain": [
       "2"
      ]
     },
     "execution_count": 208,
     "metadata": {},
     "output_type": "execute_result"
    }
   ],
   "source": [
    "find_smallest([3, 4, -1, 1])"
   ]
  },
  {
   "cell_type": "markdown",
   "id": "77a21581",
   "metadata": {},
   "source": [
    "### 42. Implement a function to find the longest palindrome substring in a given string."
   ]
  },
  {
   "cell_type": "code",
   "execution_count": 211,
   "id": "e43b03c7",
   "metadata": {},
   "outputs": [],
   "source": [
    "def longest_palindrome(s):\n",
    "    n = len(s)\n",
    "    longest_palindrome = ''\n",
    "\n",
    "    def expand_around_center(left, right):\n",
    "        while left >= 0 and right < n and s[left] == s[right]:\n",
    "            left -= 1\n",
    "            right += 1\n",
    "        return s[left + 1:right]\n",
    "\n",
    "    \n",
    "    for i in range(n):\n",
    "        odd_palindrome = expand_around_center(i, i)  \n",
    "        even_palindrome = expand_around_center(i, i + 1) \n",
    "        \n",
    "        if len(odd_palindrome) > len(longest_palindrome):\n",
    "            longest_palindrome = odd_palindrome\n",
    "        if len(even_palindrome) > len(longest_palindrome):\n",
    "            longest_palindrome = even_palindrome\n",
    "\n",
    "    return longest_palindrome"
   ]
  },
  {
   "cell_type": "code",
   "execution_count": 213,
   "id": "4332c84a",
   "metadata": {},
   "outputs": [
    {
     "data": {
      "text/plain": [
       "'bab'"
      ]
     },
     "execution_count": 213,
     "metadata": {},
     "output_type": "execute_result"
    }
   ],
   "source": [
    "longest_palindrome(\"babad\")"
   ]
  },
  {
   "cell_type": "markdown",
   "id": "b1aaa901",
   "metadata": {},
   "source": [
    "### 43. Write a program to find the number of occurrences of a given element in a list."
   ]
  },
  {
   "cell_type": "code",
   "execution_count": 214,
   "id": "50d89509",
   "metadata": {},
   "outputs": [],
   "source": [
    "def count_occurrences(lst, element):\n",
    "    count = 0\n",
    "    for item in lst:\n",
    "        if item == element:\n",
    "            count += 1\n",
    "    return count"
   ]
  },
  {
   "cell_type": "code",
   "execution_count": 216,
   "id": "77f59cd8",
   "metadata": {},
   "outputs": [
    {
     "data": {
      "text/plain": [
       "3"
      ]
     },
     "execution_count": 216,
     "metadata": {},
     "output_type": "execute_result"
    }
   ],
   "source": [
    "count_occurrences([2, 20, 2, 10, 2, 5, 4, 5], 2)"
   ]
  },
  {
   "cell_type": "markdown",
   "id": "5a2d84b1",
   "metadata": {},
   "source": [
    "### 44. Implement a function to check if a given number is a perfect number."
   ]
  },
  {
   "cell_type": "code",
   "execution_count": 217,
   "id": "908d333f",
   "metadata": {},
   "outputs": [],
   "source": [
    "def is_perfect_number(num):\n",
    "    if num <= 0:\n",
    "        return False\n",
    "\n",
    "    divisors_sum = sum(i for i in range(1, num) if num % i == 0)\n",
    "    return divisors_sum == num"
   ]
  },
  {
   "cell_type": "code",
   "execution_count": 218,
   "id": "9bac4197",
   "metadata": {},
   "outputs": [
    {
     "data": {
      "text/plain": [
       "False"
      ]
     },
     "execution_count": 218,
     "metadata": {},
     "output_type": "execute_result"
    }
   ],
   "source": [
    "is_perfect_number(10)"
   ]
  },
  {
   "cell_type": "code",
   "execution_count": 219,
   "id": "626b953a",
   "metadata": {},
   "outputs": [
    {
     "data": {
      "text/plain": [
       "True"
      ]
     },
     "execution_count": 219,
     "metadata": {},
     "output_type": "execute_result"
    }
   ],
   "source": [
    "is_perfect_number(28)"
   ]
  },
  {
   "cell_type": "markdown",
   "id": "a638b8d1",
   "metadata": {},
   "source": [
    "### 45. Write a Python program to remove all duplicates from a string."
   ]
  },
  {
   "cell_type": "code",
   "execution_count": 220,
   "id": "7a675aee",
   "metadata": {},
   "outputs": [],
   "source": [
    "def remove_duplicates(string):\n",
    "\n",
    "    \n",
    "    unique_chars = set()\n",
    "    new_string = ''\n",
    "    for char in string:\n",
    "        if char not in unique_chars:\n",
    "            new_string += char\n",
    "            unique_chars.add(char)\n",
    "\n",
    "    return new_string"
   ]
  },
  {
   "cell_type": "code",
   "execution_count": 221,
   "id": "aa9c9a8d",
   "metadata": {},
   "outputs": [
    {
     "data": {
      "text/plain": [
       "'Helo, Ayush'"
      ]
     },
     "execution_count": 221,
     "metadata": {},
     "output_type": "execute_result"
    }
   ],
   "source": [
    "remove_duplicates(\"Hello, Ayush\")"
   ]
  },
  {
   "cell_type": "markdown",
   "id": "26f9e559",
   "metadata": {},
   "source": [
    "### 46. Implement a function to find the first missing positive"
   ]
  },
  {
   "cell_type": "code",
   "execution_count": 222,
   "id": "8b7b9f68",
   "metadata": {},
   "outputs": [],
   "source": [
    "def first_missing_positive(nums):\n",
    "    n = len(nums)\n",
    "\n",
    "    i = 0\n",
    "    while i < n:\n",
    "        if 0 < nums[i] <= n and nums[i] != nums[nums[i] - 1]:\n",
    "            nums[nums[i] - 1], nums[i] = nums[i], nums[nums[i] - 1]\n",
    "        else:\n",
    "            i += 1\n",
    "\n",
    "    for i in range(n):\n",
    "        if nums[i] != i + 1:\n",
    "            return i + 1\n",
    "\n",
    "    return n + 1"
   ]
  },
  {
   "cell_type": "code",
   "execution_count": 223,
   "id": "40d908fe",
   "metadata": {},
   "outputs": [
    {
     "data": {
      "text/plain": [
       "2"
      ]
     },
     "execution_count": 223,
     "metadata": {},
     "output_type": "execute_result"
    }
   ],
   "source": [
    "first_missing_positive([3, 4, -1, 1])"
   ]
  }
 ],
 "metadata": {
  "kernelspec": {
   "display_name": "Python 3 (ipykernel)",
   "language": "python",
   "name": "python3"
  },
  "language_info": {
   "codemirror_mode": {
    "name": "ipython",
    "version": 3
   },
   "file_extension": ".py",
   "mimetype": "text/x-python",
   "name": "python",
   "nbconvert_exporter": "python",
   "pygments_lexer": "ipython3",
   "version": "3.9.16"
  }
 },
 "nbformat": 4,
 "nbformat_minor": 5
}
